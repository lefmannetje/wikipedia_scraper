{
 "cells": [
  {
   "cell_type": "code",
   "execution_count": 33,
   "metadata": {},
   "outputs": [
    {
     "name": "stdout",
     "output_type": "stream",
     "text": [
      "Success!\n"
     ]
    }
   ],
   "source": [
    "\n",
    "# import requests module\n",
    "import requests\n",
    "from requests.exceptions import HTTPError\n",
    "\n",
    "URLS = [\"https://api.github.com\"]\n",
    "\n",
    "s = requests.Session()\n",
    "\n",
    "# Search GitHub's repositories for popular Python projects\n",
    "for url in URLS:\n",
    "    try:\n",
    "        response = requests.get(\n",
    "            url,\n",
    "            params={\"q\": \"language:python\", \"sort\": \"stars\", \"order\": \"desc\"},\n",
    "        )\n",
    "        response.raise_for_status()\n",
    "    except HTTPError as http_err:\n",
    "        print(f\"HTTP error occurred: {http_err}\")\n",
    "    except Exception as err:\n",
    "        print(f\"Other error occurred: {err}\")\n",
    "    else:\n",
    "        print(\"Success!\")\n"
   ]
  }
 ],
 "metadata": {
  "kernelspec": {
   "display_name": "bs4_scraper",
   "language": "python",
   "name": "python3"
  },
  "language_info": {
   "codemirror_mode": {
    "name": "ipython",
    "version": 3
   },
   "file_extension": ".py",
   "mimetype": "text/x-python",
   "name": "python",
   "nbconvert_exporter": "python",
   "pygments_lexer": "ipython3",
   "version": "3.11.9"
  }
 },
 "nbformat": 4,
 "nbformat_minor": 2
}
